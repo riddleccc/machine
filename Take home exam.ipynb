{
 "cells": [
  {
   "cell_type": "markdown",
   "metadata": {},
   "source": [
    "# Take Home Exam"
   ]
  },
  {
   "cell_type": "markdown",
   "metadata": {},
   "source": [
    "## Question 1\n",
    "\n",
    "**List three challenges to solve this problem**\n",
    "\n",
    "a.\tHow to collect this information (the information from the social network in question 1) efficiently? \n",
    "\n",
    "b.\tHow to collect the data (Or using other methods: obtaining information from the website and predict the behavior of the users) under the law about privacy? \n",
    "\n",
    "c.\tWhat would be the machine learning system to use for such a task? \n",
    "\n",
    "Nowadays, the two major solutions are web-crawler and Internet-API. However, first, technically crawling such a tremendous website is technically challenging, especially it may take too many server resources. For Internet-API, that could take the information, and compare to internet-API this is technically easier. But it could not avoid the problem of user-privacy (This is the part to collect the data). Then you use traditional machine learning algorithms to solve this problem (This is the part of analyzing the model). I think the most significant trouble is about collecting the data. \n",
    "\n",
    "**Describe the design of your system**\n",
    "\n",
    "The solution through my search site is to use Federated Learning (FL). It could solve all the problems in one run. For federated learning:\n",
    "1.\tAll the data are solved locally, so it would not lead the privacy and violate the law. (Comparing to the risk of the traditional way of collecting data)\n",
    "\n",
    "2.\tThe federal learning modeling effect is the same as putting the entire data set in one place, or not much different in the user alignment of individual data. (The result is the same as traditional deep learning)\n",
    "The most prominent feature of FL is that it could solve the problem of user privacy. It does not collect data, and it only uses data locally.\n",
    "\n",
    "**The ethical and social consequence**\n",
    "\n",
    "For the social and ethical of this study, if you are simply “predicting” which tweet would be popular, it is a possible threat for freedom-of-speech, and it might be used for big companies and government to control the economy or politics. For example, they will control a message, including very negative information about the competitor of the company to be popular. Also, a more serious threat in this study is the leakage of personal information.\n",
    "If we use federated learning, that is my suggestion, the problem of privacy could be solved as federated learning does not need to use personal information. Comparing to the traditional method, this is a big improvement. So, it should not affect the privacy of the users. And for ethical problems, that are no apparent risks for now. \n"
   ]
  },
  {
   "attachments": {
    "1.jpg": {
     "image/jpeg": "[encoded data removed]"
    }
   },
   "cell_type": "markdown",
   "metadata": {},
   "source": [
    "## Question 2\n",
    "\n",
    "**Two existing approaches**\n",
    "\n",
    "Generally, there are two methods:\n",
    "1.\tOne emphasizes the construction of individual classifiers\n",
    "This method focuses on generating different training subsets for individual classifiers.\n",
    "\n",
    "2.\tThe other emphasizes the combination of individual classifiers\n",
    "The second category focuses on how to combine the outputs of individual classifiers. The critical factor of this category is the value of classifiers of coefficients (Dong et al. 2017).\n",
    "\n",
    "**Describe your own strategy**\n",
    "\n",
    "I want to adopt a method from deep learning called “dropout.” Treating each classifier in an ensemble tree like a “neural” in deep learning. Each of them has a possibility to inactivate. That means that “neural (In our problem that is the possibility that it does not work).” This algorithm is useful to make the weight more diverse in deep learning.\n",
    "![1.jpg](attachment:1.jpg)\n",
    "Each circle in the output layer could be considered as a “neutral.” In training, it may inactivate.\n",
    "\n",
    "**Why this is better?**\n",
    "\n",
    "This method of “dropout” has proven to be very useful in deep learning. I think it can also be used in ensemble learning. Its distinguishing feature is that the possibility of inactivation may be a hyperparameter for you to choose. So, comparing to the traditional algorithms to make the distribution of weight, we could transform this problem into a problem of selecting the best hyperparameters. We can find a better model because it has a wide range of hyperparametric choices, and we can experiment and find the best situation. Also, its advantage over traditional algorithms is that this process is easy to implement. \n"
   ]
  },
  {
   "attachments": {},
   "cell_type": "markdown",
   "metadata": {},
   "source": [
    "## Question 3\n",
    "\n",
    "**Why this problem is hard?**\n",
    "\n",
    "I think the complexity of the real world might cause that. For example, in this year, a tweet about the fall of Constantinople in 1453 or Berlin in 1945 could hardly be a popular tweet. This is not the case because relevant research on these issues may be popular among historians. \n",
    "\n",
    "**Describe two approaches**\n",
    "\n",
    "I think there are two possible methods. In a real project, I think one needs to use a more ensemble method.\n",
    "1.\tFor the popular tweet-retweet-retweet-..., the number of forwards should increase significantly in each iteration, such as acceleration to speed. Also, the acceleration should be high enough to help people quickly assess the amount of forwarding.\n",
    "\n",
    "2.\tI am also thinking about a Bayesian method that people can determine Twitter with scores. For example, it is from a very influential guy (Adding some scores), it is about breaking news, there are a lot of people coming to discuss this tweet. Then people using a more Bayesian method to evaluate.\n",
    "\n",
    "\n",
    "**Validation**\n",
    "\n",
    "The evaluation should be simple. People can collect 1000 or more popular tweets (set this to K).  Suppose the fitting number of each algorithm is λ, and then calculate the ratio: λ/K. For example, if it is above the standard, then at least 70% of popular tweets have this feature. Therefore, this strategy should work.\n",
    "\n",
    "**Social and ethical consequences**\n",
    "\n",
    "Furthermore, I think it is not good to develop such a system. People “design” a tweet, according to whether it would be popular. I think this system may lead to the threat of freedom of speech. However, for business and advertising, it may not be bad. This system could be a powerful tool for online advertising, which is one of the most profitable businesses in IT today."
   ]
  },
  {
   "attachments": {},
   "cell_type": "markdown",
   "metadata": {},
   "source": [
    "## Question 4\n",
    "\n",
    "**Why are they similar?**\n",
    "\n",
    "Although some problems are different from each other, mathematically, it can be understood as a numerical approximation of the problem. Many machine learning algorithms could be viewed as a problem to be solved with numerical analysis.\n",
    "\n",
    "**Other methods**\n",
    "\n",
    "Besides machine learning, there are also some numerical modeling methods like Monte Carlo, Ant-colony Optimization, and Genetic Algorithms, and some other methods from Optimization Theory and Operation Research could be applied. \n",
    "\n",
    "**Commonalities**\n",
    "\n",
    "There are some similarities in machine learning and the other methods above. They use very similar way for computing like Gradient Descent to compute. Therefore, there are a lot of similarities for the way the amounts to be changed.\n"
   ]
  },
  {
   "attachments": {},
   "cell_type": "markdown",
   "metadata": {},
   "source": [
    "## Question 5\n",
    "\n",
    "**The algorithm**\n",
    "\n",
    "Step1. For each arm, push it for several times. For example, 5. It is a constant. Then compute the average of the output as the mathematical expectation. \n",
    "\n",
    "Step2. Then select the best arm from it. This algorithm complexity should be O(n). \n",
    "\n",
    "Step3. Then just push that arm. \n",
    "\n",
    "This algorithm is O(n). \n",
    "\n",
    "\n",
    "**For the primary two challenges**\n",
    "\n",
    "1.\tIf the number of arms is still huge, then it will also take a lot of time. \n",
    "2.\tIs our approximation really the expected return?\n",
    "\n",
    "**For the upper-bound**\n",
    "\n",
    "Imagine that we tried λ times for each arm (To calculate the mathematical expectation), and we pulled η times for the selected arm. And the number of arms is n. \n",
    "The maximum time should be: λ*n+η\n",
    "\n"
   ]
  },
  {
   "attachments": {},
   "cell_type": "markdown",
   "metadata": {},
   "source": [
    "## Reference \n",
    "\n",
    "Dong, Y. & Shen, X.-J & Wang, L.-J & wornyo, Dickson & Zha, Zhang. (2017). Diversity-induced weighted classifier ensemble learning. 1232-1236. 10.1109/ICIP.2017.8296478.\n",
    "\n",
    "\n",
    "\n"
   ]
  },
  {
   "cell_type": "code",
   "execution_count": null,
   "metadata": {},
   "outputs": [],
   "source": []
  }
 ],
 "metadata": {
  "kernelspec": {
   "display_name": "Python 3",
   "language": "python",
   "name": "python3"
  },
  "language_info": {
   "codemirror_mode": {
    "name": "ipython",
    "version": 3
   },
   "file_extension": ".py",
   "mimetype": "text/x-python",
   "name": "python",
   "nbconvert_exporter": "python",
   "pygments_lexer": "ipython3",
   "version": "3.6.7"
  }
 },
 "nbformat": 4,
 "nbformat_minor": 2
}
