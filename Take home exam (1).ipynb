{
 "cells": [
  {
   "cell_type": "markdown",
   "metadata": {},
   "source": [
    "# Take Home Exam"
   ]
  },
  {
   "cell_type": "markdown",
   "metadata": {},
   "source": [
    "**Chen Zou 12502605**\n"
   ]
  },
  {
   "cell_type": "markdown",
   "metadata": {},
   "source": [
    "## Question 1\n",
    "\n",
    "**List three challenges to solve this problem**\n",
    "\n",
    "a.\tHow to collect this information (the information from the social network in question 1) efficiently? \n",
    "\n",
    "Nowadays, the amount of information on the social network website is massive. Take Facebook as an example, there are 25,0000,0000 pieces of data every day that is being shared on facebook in 2012. So how to collect such a huge amount of information is a complete task about web-information collecting algorithm, internet-server management, network engineering, etc.\n",
    "\n",
    "b.\tHow to collect the data (Or using other methods: obtaining information from the website and predict the behavior of the users) under the law about privacy? \n",
    "\n",
    "The New General Data Protection Regulation, the General Data Protection Regulation, GDPR, recently introduced by the European Union, shows that increasing lying to user data privacy and security will be a world wide-end trend. This poses an unprecedented challenge in the field of artificial intelligence, where the research community and the business community are currently not typically the party that collects the data, such as Party A, which collects data, transfers it to Party B for cleaning, then moves to Party C for modeling, and finally sells the model to Party D. This data is transferred between entities, exchanged and traded in the form of a violation of the GDPR and could be severely punished by the Act. Similarly, the Cyber Security Law of the People's Republic of China and the General Principles of civil law of the People's Republic of China, which have been in force in China since 2017, also state that network operator may not disclose, tamper with or destroy personal information they collect. Data transactions with third parties need to ensure that the proposed contract agreed on the scope of the proposed transaction data and data protection obligations. The establishment of these regulations poses new challenges to the traditional data processing model of artificial intelligence to varying degrees.\n",
    "\n",
    "c.\tWhat would be the machine learning system to use for such a task? \n",
    "\n",
    "Nowadays, the two major solutions to collect information are web-crawler and Internet-API. However, first, technically crawling such a tremendous website is technically challenging, especially it may take too many server resources. For Internet-API, that could take the information, and compare to internet-API this is technically easier. But it could not avoid the problem of user-privacy (This is the part to collect the data). The primary method for predictive algorithms is machine learning. You use traditional machine learning algorithms to solve this problem (This is the part of analyzing the model). For now, the result of machine learning, especially machine learning on the massive datasets, is widely being praised by the industry. I think the most significant trouble is about collecting the data.  \n",
    "\n",
    "**Describe the design of your system**\n",
    "\n",
    "The solution through my search site is to use Federated Learning (FL). It could solve all the problems in one run. For federated learning:\n",
    "1.\tAll the data are solved locally, so it would not lead the privacy and violate the law. (Comparing to the risk of the traditional way of collecting data)\n",
    "\n",
    "2.\tThe federal learning modeling effect is the same as putting the entire data set in one place, or not much different in the user alignment of individual data. (The result is the same as traditional deep learning)\n",
    "The most prominent feature of FL is that it could solve the problem of user privacy. It does not collect data, and it only uses data locally.\n",
    "\n",
    "For the designing of federated learning system:\n",
    "Assume that there are two data-owners (Part A and Part B). You could extend this to many data-owners. A and B could not exchange their data. How could they train a model together? This could be done via Federated Learning.\n",
    "\n",
    "1. Encrypting sample alignment. \n",
    "Because the user base of the two enterprises does not fully coincide, the system leverages encryption-based user sample alignment technology to identify co-users on both sides without Exposing their data, and without exposing users that do not overlap with each other. to combine the characteristics of these users for modeling.\n",
    "\n",
    "2. Training the Encrypted Model.\n",
    "To ensure the encryption, a third-party trainer (trainer C) is needed. In the whole process, all the data from A and B remain locally. So it would not get leaked.\n",
    "\n",
    "3. Effect Incentives\n",
    "In a federated learning process, the more you contribute to the federated learning system, the more you could get rewarded by the system. This is being used by the designer of FL to push the user to contribute more to the system.\n",
    "\n",
    "The most significant feature of FL is that it could solve the problem of user privacy. It does not need to collect data, and it only needs to use the data locally.\n",
    "\n",
    "**The ethical and social consequence**\n",
    "\n",
    "For the social and ethical of this study, if you are simply “predicting” which tweet would be popular, it is a possible threat for freedom-of-speech, and it might be used for big companies and government to control the economy or politics. For example, they will control a message, including very negative information about the competitor of the company to be popular. Also, a more serious threat in this study is the leakage of personal information.\n",
    "If we use federated learning, that is my suggestion, the problem of privacy could be solved as federated learning does not need to use personal information. Comparing to the traditional method, this is a big improvement. So, it should not affect the privacy of the users. And for ethical problems, that are no apparent risks for now. \n"
   ]
  },
  {
   "cell_type": "markdown",
   "metadata": {},
   "source": [
    "## Github Link\n",
    "\n",
    "\n",
    "\n"
   ]
  },
  {
   "cell_type": "code",
   "execution_count": null,
   "metadata": {},
   "outputs": [],
   "source": []
  }
 ],
 "metadata": {
  "kernelspec": {
   "display_name": "Python 3",
   "language": "python",
   "name": "python3"
  },
  "language_info": {
   "codemirror_mode": {
    "name": "ipython",
    "version": 3
   },
   "file_extension": ".py",
   "mimetype": "text/x-python",
   "name": "python",
   "nbconvert_exporter": "python",
   "pygments_lexer": "ipython3",
   "version": "3.6.7"
  }
 },
 "nbformat": 4,
 "nbformat_minor": 2
}
